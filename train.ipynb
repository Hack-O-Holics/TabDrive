{
  "nbformat": 4,
  "nbformat_minor": 0,
  "metadata": {
    "colab": {
      "name": "train",
      "provenance": [],
      "collapsed_sections": [],
      "toc_visible": true
    },
    "kernelspec": {
      "name": "python3",
      "display_name": "Python 3"
    },
    "accelerator": "GPU"
  },
  "cells": [
    {
      "cell_type": "markdown",
      "metadata": {
        "id": "3prVEo-TmcPw",
        "colab_type": "text"
      },
      "source": [
        "## Import Dependencies"
      ]
    },
    {
      "cell_type": "code",
      "metadata": {
        "id": "DJFrMeDuXHgr",
        "colab_type": "code",
        "colab": {
          "base_uri": "https://localhost:8080/",
          "height": 255
        },
        "outputId": "88f18746-5da8-4cc7-a84d-ec9ae6180842"
      },
      "source": [
        "!pip install turicreate==6.3 --quiet\n",
        "!pip uninstall -y tensorflow --quiet\n",
        "!pip install tensorflow-gpu --quiet\n",
        "\n",
        "import turicreate as tc\n",
        "tc.config.set_num_gpus(-1)"
      ],
      "execution_count": 1,
      "outputs": [
        {
          "output_type": "stream",
          "text": [
            "\u001b[K     |████████████████████████████████| 91.9MB 65kB/s \n",
            "\u001b[K     |████████████████████████████████| 86.3MB 40kB/s \n",
            "\u001b[K     |████████████████████████████████| 3.4MB 53.5MB/s \n",
            "\u001b[K     |████████████████████████████████| 327kB 53.7MB/s \n",
            "\u001b[K     |████████████████████████████████| 51kB 7.9MB/s \n",
            "\u001b[K     |████████████████████████████████| 450kB 48.0MB/s \n",
            "\u001b[K     |████████████████████████████████| 3.8MB 47.7MB/s \n",
            "\u001b[?25h  Building wheel for resampy (setup.py) ... \u001b[?25l\u001b[?25hdone\n",
            "  Building wheel for gast (setup.py) ... \u001b[?25l\u001b[?25hdone\n",
            "\u001b[31mERROR: tensorflow-probability 0.11.0 has requirement gast>=0.3.2, but you'll have gast 0.2.2 which is incompatible.\u001b[0m\n",
            "\u001b[K     |████████████████████████████████| 320.4MB 56kB/s \n",
            "\u001b[K     |████████████████████████████████| 6.8MB 12.8MB/s \n",
            "\u001b[K     |████████████████████████████████| 460kB 34.8MB/s \n",
            "\u001b[?25hTuriCreate currently only supports using one GPU. Setting 'num_gpus' to 1.\n"
          ],
          "name": "stdout"
        }
      ]
    },
    {
      "cell_type": "markdown",
      "metadata": {
        "id": "bWqMHP_4k_2l",
        "colab_type": "text"
      },
      "source": [
        "## Download Dataset from Kaggle"
      ]
    },
    {
      "cell_type": "code",
      "metadata": {
        "id": "UHgxVhaBi2aq",
        "colab_type": "code",
        "colab": {
          "base_uri": "https://localhost:8080/",
          "height": 309
        },
        "outputId": "d77d9605-0430-45ff-bc43-4e59c1b15a46"
      },
      "source": [
        "!wget -x --load-cookies cookies.txt 'https://www.kaggle.com/c/state-farm-distracted-driver-detection/download-all' -O data.zip\n",
        "!unzip -q data.zip"
      ],
      "execution_count": 2,
      "outputs": [
        {
          "output_type": "stream",
          "text": [
            "--2020-08-16 16:48:56--  https://www.kaggle.com/c/state-farm-distracted-driver-detection/download-all\n",
            "Resolving www.kaggle.com (www.kaggle.com)... 35.244.233.98\n",
            "Connecting to www.kaggle.com (www.kaggle.com)|35.244.233.98|:443... connected.\n",
            "HTTP request sent, awaiting response... 302 Found\n",
            "Location: https://storage.googleapis.com/kaggle-competitions-data/kaggle-v2/5048/868335/bundle/archive.zip?GoogleAccessId=web-data@kaggle-161607.iam.gserviceaccount.com&Expires=1597855736&Signature=FLLZ2GkHEKhnG5aVOsGdZu6deGK%2F%2FEKM6xHAmct2Kou623a2ArriZym3m0i3o%2FWzZPB%2Ftya%2BF%2FK78wJn5TFGENmdnbaanYLrNQTmlMmz8hHkpUi1CTz1fH1adY1t8whjV66jAZPian%2FQgUExCL6nspF9YtJqQ12gqewB6QXer83jwLolqXf1rmJWsuCp3xhqGP05f3sYVPWl44JHCN11CJCgfqQXlFYivWvCfROkduKPF3Qd7UllcWKBSn4qb2q4YZeFHAfDJeR97reiThHrWWr8nGdxAqAxpd1YUAkI8qx9cz%2FBqiUtGKFQoNM8WuO9rkkx35E78GHHxAqlLUaoaA%3D%3D&response-content-disposition=attachment%3B+filename%3Dstate-farm-distracted-driver-detection.zip [following]\n",
            "--2020-08-16 16:48:56--  https://storage.googleapis.com/kaggle-competitions-data/kaggle-v2/5048/868335/bundle/archive.zip?GoogleAccessId=web-data@kaggle-161607.iam.gserviceaccount.com&Expires=1597855736&Signature=FLLZ2GkHEKhnG5aVOsGdZu6deGK%2F%2FEKM6xHAmct2Kou623a2ArriZym3m0i3o%2FWzZPB%2Ftya%2BF%2FK78wJn5TFGENmdnbaanYLrNQTmlMmz8hHkpUi1CTz1fH1adY1t8whjV66jAZPian%2FQgUExCL6nspF9YtJqQ12gqewB6QXer83jwLolqXf1rmJWsuCp3xhqGP05f3sYVPWl44JHCN11CJCgfqQXlFYivWvCfROkduKPF3Qd7UllcWKBSn4qb2q4YZeFHAfDJeR97reiThHrWWr8nGdxAqAxpd1YUAkI8qx9cz%2FBqiUtGKFQoNM8WuO9rkkx35E78GHHxAqlLUaoaA%3D%3D&response-content-disposition=attachment%3B+filename%3Dstate-farm-distracted-driver-detection.zip\n",
            "Resolving storage.googleapis.com (storage.googleapis.com)... 108.177.127.128, 173.194.69.128, 108.177.119.128, ...\n",
            "Connecting to storage.googleapis.com (storage.googleapis.com)|108.177.127.128|:443... connected.\n",
            "HTTP request sent, awaiting response... 200 OK\n",
            "Length: 4296022692 (4.0G) [application/zip]\n",
            "Saving to: ‘data.zip’\n",
            "\n",
            "data.zip            100%[===================>]   4.00G  59.6MB/s    in 99s     \n",
            "\n",
            "2020-08-16 16:50:36 (41.4 MB/s) - ‘data.zip’ saved [4296022692/4296022692]\n",
            "\n"
          ],
          "name": "stdout"
        }
      ]
    },
    {
      "cell_type": "markdown",
      "metadata": {
        "id": "339z5SJRlVCd",
        "colab_type": "text"
      },
      "source": [
        "## Train and Export Classifier"
      ]
    },
    {
      "cell_type": "code",
      "metadata": {
        "id": "syNQjoFRRSrG",
        "colab_type": "code",
        "colab": {}
      },
      "source": [
        "code = {'c0': 'Good Job',\n",
        "        'c1': 'Texting Right Hand',\n",
        "        'c2': 'Talking On Phone Left Hand',\n",
        "        'c3': 'Texting Left Hand',\n",
        "        'c4': 'Talking On Phone Left Hand',\n",
        "        'c5': 'Operating Radio',\n",
        "        'c6': 'Drinking',\n",
        "        'c7': 'Reaching Backseat',\n",
        "        'c8': 'Fixing Hair And Makeup',\n",
        "        'c9': 'Talking To Passenger'}\n",
        "\n",
        "data = tc.image_analysis.load_images('/content/imgs/train', with_path=True)\n",
        "data['label'] = data['path'].apply(lambda path: code[path.split('/')[-2]])\n",
        "data.save('data.sframe')"
      ],
      "execution_count": 3,
      "outputs": []
    },
    {
      "cell_type": "code",
      "metadata": {
        "id": "9OPNqzOcX2Bz",
        "colab_type": "code",
        "colab": {
          "base_uri": "https://localhost:8080/",
          "height": 1000
        },
        "outputId": "6894a72e-0ceb-4671-9c00-e8af816e4cde"
      },
      "source": [
        "data = tc.SFrame('data.sframe')\n",
        "train_data, test_data = data.random_split(0.8)\n",
        "\n",
        "model = tc.image_classifier.create(train_data, \n",
        "                                   target='label', \n",
        "                                   class_weights='auto', \n",
        "                                   max_iterations=50, \n",
        "                                   batch_size=512)\n",
        "predictions = model.predict(test_data)\n",
        "\n",
        "metrics = model.evaluate(test_data)\n",
        "print(metrics['accuracy'])\n",
        "\n",
        "model.save('resnet50.model')\n",
        "model.export_coreml('resnet50.mlmodel')"
      ],
      "execution_count": 4,
      "outputs": [
        {
          "output_type": "stream",
          "text": [
            "WARNING:tensorflow:From /usr/local/lib/python3.6/dist-packages/tensorflow/python/compat/v2_compat.py:96: disable_resource_variables (from tensorflow.python.ops.variable_scope) is deprecated and will be removed in a future version.\n",
            "Instructions for updating:\n",
            "non-resource variables are not supported in the long term\n",
            "Downloading https://docs-assets.developer.apple.com/turicreate/models/resnet-50-TuriCreate-6.0.h5\n",
            "Download completed: /var/tmp/model_cache/resnet-50-TuriCreate-6.0.h5\n",
            "Performing feature extraction on resized images...\n",
            "Completed   512/17937\n",
            "Completed  1024/17937\n",
            "Completed  1536/17937\n",
            "Completed  2048/17937\n",
            "Completed  2560/17937\n",
            "Completed  3072/17937\n",
            "Completed  3584/17937\n",
            "Completed  4096/17937\n",
            "Completed  4608/17937\n",
            "Completed  5120/17937\n",
            "Completed  5632/17937\n",
            "Completed  6144/17937\n",
            "Completed  6656/17937\n",
            "Completed  7168/17937\n",
            "Completed  7680/17937\n",
            "Completed  8192/17937\n",
            "Completed  8704/17937\n",
            "Completed  9216/17937\n",
            "Completed  9728/17937\n",
            "Completed 10240/17937\n",
            "Completed 10752/17937\n",
            "Completed 11264/17937\n",
            "Completed 11776/17937\n",
            "Completed 12288/17937\n",
            "Completed 12800/17937\n",
            "Completed 13312/17937\n",
            "Completed 13824/17937\n",
            "Completed 14336/17937\n",
            "Completed 14848/17937\n",
            "Completed 15360/17937\n",
            "Completed 15872/17937\n",
            "Completed 16384/17937\n",
            "Completed 16896/17937\n",
            "Completed 17408/17937\n",
            "Completed 17920/17937\n",
            "Completed 17937/17937\n",
            "PROGRESS: Creating a validation set from 5 percent of training data. This may take a while.\n",
            "          You can set ``validation_set=None`` to disable validation tracking.\n",
            "\n"
          ],
          "name": "stdout"
        },
        {
          "output_type": "display_data",
          "data": {
            "text/html": [
              "<pre>Logistic regression:</pre>"
            ],
            "text/plain": [
              "Logistic regression:"
            ]
          },
          "metadata": {
            "tags": []
          }
        },
        {
          "output_type": "display_data",
          "data": {
            "text/html": [
              "<pre>--------------------------------------------------------</pre>"
            ],
            "text/plain": [
              "--------------------------------------------------------"
            ]
          },
          "metadata": {
            "tags": []
          }
        },
        {
          "output_type": "display_data",
          "data": {
            "text/html": [
              "<pre>Number of examples          : 17040</pre>"
            ],
            "text/plain": [
              "Number of examples          : 17040"
            ]
          },
          "metadata": {
            "tags": []
          }
        },
        {
          "output_type": "display_data",
          "data": {
            "text/html": [
              "<pre>Number of classes           : 9</pre>"
            ],
            "text/plain": [
              "Number of classes           : 9"
            ]
          },
          "metadata": {
            "tags": []
          }
        },
        {
          "output_type": "display_data",
          "data": {
            "text/html": [
              "<pre>Number of feature columns   : 1</pre>"
            ],
            "text/plain": [
              "Number of feature columns   : 1"
            ]
          },
          "metadata": {
            "tags": []
          }
        },
        {
          "output_type": "display_data",
          "data": {
            "text/html": [
              "<pre>Number of unpacked features : 2048</pre>"
            ],
            "text/plain": [
              "Number of unpacked features : 2048"
            ]
          },
          "metadata": {
            "tags": []
          }
        },
        {
          "output_type": "display_data",
          "data": {
            "text/html": [
              "<pre>Number of coefficients      : 16392</pre>"
            ],
            "text/plain": [
              "Number of coefficients      : 16392"
            ]
          },
          "metadata": {
            "tags": []
          }
        },
        {
          "output_type": "display_data",
          "data": {
            "text/html": [
              "<pre>Starting L-BFGS</pre>"
            ],
            "text/plain": [
              "Starting L-BFGS"
            ]
          },
          "metadata": {
            "tags": []
          }
        },
        {
          "output_type": "display_data",
          "data": {
            "text/html": [
              "<pre>--------------------------------------------------------</pre>"
            ],
            "text/plain": [
              "--------------------------------------------------------"
            ]
          },
          "metadata": {
            "tags": []
          }
        },
        {
          "output_type": "display_data",
          "data": {
            "text/html": [
              "<pre>+-----------+----------+-----------+--------------+-------------------+---------------------+</pre>"
            ],
            "text/plain": [
              "+-----------+----------+-----------+--------------+-------------------+---------------------+"
            ]
          },
          "metadata": {
            "tags": []
          }
        },
        {
          "output_type": "display_data",
          "data": {
            "text/html": [
              "<pre>| Iteration | Passes   | Step size | Elapsed Time | Training Accuracy | Validation Accuracy |</pre>"
            ],
            "text/plain": [
              "| Iteration | Passes   | Step size | Elapsed Time | Training Accuracy | Validation Accuracy |"
            ]
          },
          "metadata": {
            "tags": []
          }
        },
        {
          "output_type": "display_data",
          "data": {
            "text/html": [
              "<pre>+-----------+----------+-----------+--------------+-------------------+---------------------+</pre>"
            ],
            "text/plain": [
              "+-----------+----------+-----------+--------------+-------------------+---------------------+"
            ]
          },
          "metadata": {
            "tags": []
          }
        },
        {
          "output_type": "display_data",
          "data": {
            "text/html": [
              "<pre>| 0         | 3        | 0.500000  | 3.671347     | 0.218721          | 0.212932            |</pre>"
            ],
            "text/plain": [
              "| 0         | 3        | 0.500000  | 3.671347     | 0.218721          | 0.212932            |"
            ]
          },
          "metadata": {
            "tags": []
          }
        },
        {
          "output_type": "display_data",
          "data": {
            "text/html": [
              "<pre>| 1         | 6        | 2.500000  | 7.524457     | 0.543251          | 0.551839            |</pre>"
            ],
            "text/plain": [
              "| 1         | 6        | 2.500000  | 7.524457     | 0.543251          | 0.551839            |"
            ]
          },
          "metadata": {
            "tags": []
          }
        },
        {
          "output_type": "display_data",
          "data": {
            "text/html": [
              "<pre>| 2         | 7        | 2.500000  | 9.662397     | 0.390728          | 0.377926            |</pre>"
            ],
            "text/plain": [
              "| 2         | 7        | 2.500000  | 9.662397     | 0.390728          | 0.377926            |"
            ]
          },
          "metadata": {
            "tags": []
          }
        },
        {
          "output_type": "display_data",
          "data": {
            "text/html": [
              "<pre>| 3         | 13       | 2.737031  | 16.060809    | 0.577054          | 0.576366            |</pre>"
            ],
            "text/plain": [
              "| 3         | 13       | 2.737031  | 16.060809    | 0.577054          | 0.576366            |"
            ]
          },
          "metadata": {
            "tags": []
          }
        },
        {
          "output_type": "display_data",
          "data": {
            "text/html": [
              "<pre>| 4         | 14       | 2.737031  | 18.189285    | 0.606221          | 0.612040            |</pre>"
            ],
            "text/plain": [
              "| 4         | 14       | 2.737031  | 18.189285    | 0.606221          | 0.612040            |"
            ]
          },
          "metadata": {
            "tags": []
          }
        },
        {
          "output_type": "display_data",
          "data": {
            "text/html": [
              "<pre>| 6         | 21       | 1.798260  | 26.935150    | 0.624589          | 0.622074            |</pre>"
            ],
            "text/plain": [
              "| 6         | 21       | 1.798260  | 26.935150    | 0.624589          | 0.622074            |"
            ]
          },
          "metadata": {
            "tags": []
          }
        },
        {
          "output_type": "display_data",
          "data": {
            "text/html": [
              "<pre>| 7         | 26       | 1.742128  | 32.637997    | 0.643251          | 0.639911            |</pre>"
            ],
            "text/plain": [
              "| 7         | 26       | 1.742128  | 32.637997    | 0.643251          | 0.639911            |"
            ]
          },
          "metadata": {
            "tags": []
          }
        },
        {
          "output_type": "display_data",
          "data": {
            "text/html": [
              "<pre>| 8         | 27       | 1.742128  | 34.825612    | 0.690082          | 0.703456            |</pre>"
            ],
            "text/plain": [
              "| 8         | 27       | 1.742128  | 34.825612    | 0.690082          | 0.703456            |"
            ]
          },
          "metadata": {
            "tags": []
          }
        },
        {
          "output_type": "display_data",
          "data": {
            "text/html": [
              "<pre>| 9         | 32       | 1.422310  | 40.440207    | 0.638439          | 0.655518            |</pre>"
            ],
            "text/plain": [
              "| 9         | 32       | 1.422310  | 40.440207    | 0.638439          | 0.655518            |"
            ]
          },
          "metadata": {
            "tags": []
          }
        },
        {
          "output_type": "display_data",
          "data": {
            "text/html": [
              "<pre>| 10        | 34       | 0.992059  | 43.663708    | 0.700587          | 0.713489            |</pre>"
            ],
            "text/plain": [
              "| 10        | 34       | 0.992059  | 43.663708    | 0.700587          | 0.713489            |"
            ]
          },
          "metadata": {
            "tags": []
          }
        },
        {
          "output_type": "display_data",
          "data": {
            "text/html": [
              "<pre>| 11        | 35       | 1.000000  | 45.924562    | 0.707394          | 0.715719            |</pre>"
            ],
            "text/plain": [
              "| 11        | 35       | 1.000000  | 45.924562    | 0.707394          | 0.715719            |"
            ]
          },
          "metadata": {
            "tags": []
          }
        },
        {
          "output_type": "display_data",
          "data": {
            "text/html": [
              "<pre>| 12        | 36       | 1.000000  | 48.107112    | 0.713674          | 0.715719            |</pre>"
            ],
            "text/plain": [
              "| 12        | 36       | 1.000000  | 48.107112    | 0.713674          | 0.715719            |"
            ]
          },
          "metadata": {
            "tags": []
          }
        },
        {
          "output_type": "display_data",
          "data": {
            "text/html": [
              "<pre>| 13        | 37       | 1.000000  | 50.300293    | 0.736913          | 0.734671            |</pre>"
            ],
            "text/plain": [
              "| 13        | 37       | 1.000000  | 50.300293    | 0.736913          | 0.734671            |"
            ]
          },
          "metadata": {
            "tags": []
          }
        },
        {
          "output_type": "display_data",
          "data": {
            "text/html": [
              "<pre>| 14        | 38       | 1.000000  | 52.492366    | 0.755634          | 0.768116            |</pre>"
            ],
            "text/plain": [
              "| 14        | 38       | 1.000000  | 52.492366    | 0.755634          | 0.768116            |"
            ]
          },
          "metadata": {
            "tags": []
          }
        },
        {
          "output_type": "display_data",
          "data": {
            "text/html": [
              "<pre>| 15        | 40       | 1.000000  | 55.455512    | 0.776878          | 0.770346            |</pre>"
            ],
            "text/plain": [
              "| 15        | 40       | 1.000000  | 55.455512    | 0.776878          | 0.770346            |"
            ]
          },
          "metadata": {
            "tags": []
          }
        },
        {
          "output_type": "display_data",
          "data": {
            "text/html": [
              "<pre>| 16        | 41       | 1.000000  | 57.711522    | 0.797594          | 0.782609            |</pre>"
            ],
            "text/plain": [
              "| 16        | 41       | 1.000000  | 57.711522    | 0.797594          | 0.782609            |"
            ]
          },
          "metadata": {
            "tags": []
          }
        },
        {
          "output_type": "display_data",
          "data": {
            "text/html": [
              "<pre>| 17        | 42       | 1.000000  | 59.963774    | 0.804167          | 0.785953            |</pre>"
            ],
            "text/plain": [
              "| 17        | 42       | 1.000000  | 59.963774    | 0.804167          | 0.785953            |"
            ]
          },
          "metadata": {
            "tags": []
          }
        },
        {
          "output_type": "display_data",
          "data": {
            "text/html": [
              "<pre>| 18        | 43       | 1.000000  | 62.187856    | 0.807277          | 0.791527            |</pre>"
            ],
            "text/plain": [
              "| 18        | 43       | 1.000000  | 62.187856    | 0.807277          | 0.791527            |"
            ]
          },
          "metadata": {
            "tags": []
          }
        },
        {
          "output_type": "display_data",
          "data": {
            "text/html": [
              "<pre>| 19        | 44       | 1.000000  | 64.386459    | 0.813439          | 0.795987            |</pre>"
            ],
            "text/plain": [
              "| 19        | 44       | 1.000000  | 64.386459    | 0.813439          | 0.795987            |"
            ]
          },
          "metadata": {
            "tags": []
          }
        },
        {
          "output_type": "display_data",
          "data": {
            "text/html": [
              "<pre>| 20        | 45       | 1.000000  | 66.669185    | 0.824354          | 0.807135            |</pre>"
            ],
            "text/plain": [
              "| 20        | 45       | 1.000000  | 66.669185    | 0.824354          | 0.807135            |"
            ]
          },
          "metadata": {
            "tags": []
          }
        },
        {
          "output_type": "display_data",
          "data": {
            "text/html": [
              "<pre>| 21        | 46       | 1.000000  | 68.841495    | 0.840904          | 0.822742            |</pre>"
            ],
            "text/plain": [
              "| 21        | 46       | 1.000000  | 68.841495    | 0.840904          | 0.822742            |"
            ]
          },
          "metadata": {
            "tags": []
          }
        },
        {
          "output_type": "display_data",
          "data": {
            "text/html": [
              "<pre>| 22        | 47       | 1.000000  | 71.047400    | 0.845951          | 0.831661            |</pre>"
            ],
            "text/plain": [
              "| 22        | 47       | 1.000000  | 71.047400    | 0.845951          | 0.831661            |"
            ]
          },
          "metadata": {
            "tags": []
          }
        },
        {
          "output_type": "display_data",
          "data": {
            "text/html": [
              "<pre>| 23        | 48       | 1.000000  | 73.237588    | 0.851174          | 0.833891            |</pre>"
            ],
            "text/plain": [
              "| 23        | 48       | 1.000000  | 73.237588    | 0.851174          | 0.833891            |"
            ]
          },
          "metadata": {
            "tags": []
          }
        },
        {
          "output_type": "display_data",
          "data": {
            "text/html": [
              "<pre>| 24        | 51       | 0.578517  | 77.146028    | 0.855751          | 0.837235            |</pre>"
            ],
            "text/plain": [
              "| 24        | 51       | 0.578517  | 77.146028    | 0.855751          | 0.837235            |"
            ]
          },
          "metadata": {
            "tags": []
          }
        },
        {
          "output_type": "display_data",
          "data": {
            "text/html": [
              "<pre>| 25        | 53       | 0.578517  | 80.268568    | 0.856162          | 0.836120            |</pre>"
            ],
            "text/plain": [
              "| 25        | 53       | 0.578517  | 80.268568    | 0.856162          | 0.836120            |"
            ]
          },
          "metadata": {
            "tags": []
          }
        },
        {
          "output_type": "display_data",
          "data": {
            "text/html": [
              "<pre>| 26        | 54       | 0.723147  | 82.528406    | 0.859624          | 0.842809            |</pre>"
            ],
            "text/plain": [
              "| 26        | 54       | 0.723147  | 82.528406    | 0.859624          | 0.842809            |"
            ]
          },
          "metadata": {
            "tags": []
          }
        },
        {
          "output_type": "display_data",
          "data": {
            "text/html": [
              "<pre>| 27        | 55       | 0.903933  | 84.694836    | 0.865141          | 0.852843            |</pre>"
            ],
            "text/plain": [
              "| 27        | 55       | 0.903933  | 84.694836    | 0.865141          | 0.852843            |"
            ]
          },
          "metadata": {
            "tags": []
          }
        },
        {
          "output_type": "display_data",
          "data": {
            "text/html": [
              "<pre>| 28        | 56       | 1.000000  | 86.873902    | 0.864319          | 0.852843            |</pre>"
            ],
            "text/plain": [
              "| 28        | 56       | 1.000000  | 86.873902    | 0.864319          | 0.852843            |"
            ]
          },
          "metadata": {
            "tags": []
          }
        },
        {
          "output_type": "display_data",
          "data": {
            "text/html": [
              "<pre>| 29        | 58       | 0.801713  | 89.949370    | 0.875528          | 0.862876            |</pre>"
            ],
            "text/plain": [
              "| 29        | 58       | 0.801713  | 89.949370    | 0.875528          | 0.862876            |"
            ]
          },
          "metadata": {
            "tags": []
          }
        },
        {
          "output_type": "display_data",
          "data": {
            "text/html": [
              "<pre>| 30        | 59       | 1.000000  | 92.110203    | 0.883040          | 0.867336            |</pre>"
            ],
            "text/plain": [
              "| 30        | 59       | 1.000000  | 92.110203    | 0.883040          | 0.867336            |"
            ]
          },
          "metadata": {
            "tags": []
          }
        },
        {
          "output_type": "display_data",
          "data": {
            "text/html": [
              "<pre>| 31        | 60       | 1.000000  | 94.282466    | 0.888263          | 0.869565            |</pre>"
            ],
            "text/plain": [
              "| 31        | 60       | 1.000000  | 94.282466    | 0.888263          | 0.869565            |"
            ]
          },
          "metadata": {
            "tags": []
          }
        },
        {
          "output_type": "display_data",
          "data": {
            "text/html": [
              "<pre>| 32        | 61       | 1.000000  | 96.497253    | 0.888263          | 0.869565            |</pre>"
            ],
            "text/plain": [
              "| 32        | 61       | 1.000000  | 96.497253    | 0.888263          | 0.869565            |"
            ]
          },
          "metadata": {
            "tags": []
          }
        },
        {
          "output_type": "display_data",
          "data": {
            "text/html": [
              "<pre>| 33        | 63       | 0.770705  | 99.548358    | 0.892547          | 0.876254            |</pre>"
            ],
            "text/plain": [
              "| 33        | 63       | 0.770705  | 99.548358    | 0.892547          | 0.876254            |"
            ]
          },
          "metadata": {
            "tags": []
          }
        },
        {
          "output_type": "display_data",
          "data": {
            "text/html": [
              "<pre>| 34        | 64       | 0.963382  | 101.698052   | 0.895481          | 0.877369            |</pre>"
            ],
            "text/plain": [
              "| 34        | 64       | 0.963382  | 101.698052   | 0.895481          | 0.877369            |"
            ]
          },
          "metadata": {
            "tags": []
          }
        },
        {
          "output_type": "display_data",
          "data": {
            "text/html": [
              "<pre>| 35        | 65       | 1.000000  | 103.890666   | 0.897242          | 0.878484            |</pre>"
            ],
            "text/plain": [
              "| 35        | 65       | 1.000000  | 103.890666   | 0.897242          | 0.878484            |"
            ]
          },
          "metadata": {
            "tags": []
          }
        },
        {
          "output_type": "display_data",
          "data": {
            "text/html": [
              "<pre>| 36        | 66       | 1.000000  | 106.064896   | 0.900998          | 0.876254            |</pre>"
            ],
            "text/plain": [
              "| 36        | 66       | 1.000000  | 106.064896   | 0.900998          | 0.876254            |"
            ]
          },
          "metadata": {
            "tags": []
          }
        },
        {
          "output_type": "display_data",
          "data": {
            "text/html": [
              "<pre>| 37        | 67       | 1.000000  | 108.243125   | 0.906808          | 0.880713            |</pre>"
            ],
            "text/plain": [
              "| 37        | 67       | 1.000000  | 108.243125   | 0.906808          | 0.880713            |"
            ]
          },
          "metadata": {
            "tags": []
          }
        },
        {
          "output_type": "display_data",
          "data": {
            "text/html": [
              "<pre>| 38        | 68       | 1.000000  | 110.441513   | 0.905810          | 0.878484            |</pre>"
            ],
            "text/plain": [
              "| 38        | 68       | 1.000000  | 110.441513   | 0.905810          | 0.878484            |"
            ]
          },
          "metadata": {
            "tags": []
          }
        },
        {
          "output_type": "display_data",
          "data": {
            "text/html": [
              "<pre>| 39        | 70       | 1.000000  | 113.484487   | 0.908392          | 0.880713            |</pre>"
            ],
            "text/plain": [
              "| 39        | 70       | 1.000000  | 113.484487   | 0.908392          | 0.880713            |"
            ]
          },
          "metadata": {
            "tags": []
          }
        },
        {
          "output_type": "display_data",
          "data": {
            "text/html": [
              "<pre>| 40        | 71       | 1.000000  | 115.636007   | 0.912383          | 0.880713            |</pre>"
            ],
            "text/plain": [
              "| 40        | 71       | 1.000000  | 115.636007   | 0.912383          | 0.880713            |"
            ]
          },
          "metadata": {
            "tags": []
          }
        },
        {
          "output_type": "display_data",
          "data": {
            "text/html": [
              "<pre>| 41        | 72       | 1.000000  | 117.827895   | 0.912852          | 0.882943            |</pre>"
            ],
            "text/plain": [
              "| 41        | 72       | 1.000000  | 117.827895   | 0.912852          | 0.882943            |"
            ]
          },
          "metadata": {
            "tags": []
          }
        },
        {
          "output_type": "display_data",
          "data": {
            "text/html": [
              "<pre>| 42        | 73       | 1.000000  | 119.997691   | 0.918134          | 0.884058            |</pre>"
            ],
            "text/plain": [
              "| 42        | 73       | 1.000000  | 119.997691   | 0.918134          | 0.884058            |"
            ]
          },
          "metadata": {
            "tags": []
          }
        },
        {
          "output_type": "display_data",
          "data": {
            "text/html": [
              "<pre>| 43        | 74       | 1.000000  | 122.223617   | 0.920070          | 0.892977            |</pre>"
            ],
            "text/plain": [
              "| 43        | 74       | 1.000000  | 122.223617   | 0.920070          | 0.892977            |"
            ]
          },
          "metadata": {
            "tags": []
          }
        },
        {
          "output_type": "display_data",
          "data": {
            "text/html": [
              "<pre>| 44        | 76       | 0.966859  | 125.337326   | 0.925822          | 0.898551            |</pre>"
            ],
            "text/plain": [
              "| 44        | 76       | 0.966859  | 125.337326   | 0.925822          | 0.898551            |"
            ]
          },
          "metadata": {
            "tags": []
          }
        },
        {
          "output_type": "display_data",
          "data": {
            "text/html": [
              "<pre>| 45        | 77       | 1.000000  | 127.608213   | 0.926232          | 0.903010            |</pre>"
            ],
            "text/plain": [
              "| 45        | 77       | 1.000000  | 127.608213   | 0.926232          | 0.903010            |"
            ]
          },
          "metadata": {
            "tags": []
          }
        },
        {
          "output_type": "display_data",
          "data": {
            "text/html": [
              "<pre>| 46        | 78       | 1.000000  | 129.828391   | 0.927465          | 0.904125            |</pre>"
            ],
            "text/plain": [
              "| 46        | 78       | 1.000000  | 129.828391   | 0.927465          | 0.904125            |"
            ]
          },
          "metadata": {
            "tags": []
          }
        },
        {
          "output_type": "display_data",
          "data": {
            "text/html": [
              "<pre>| 47        | 79       | 1.000000  | 132.033153   | 0.928521          | 0.901895            |</pre>"
            ],
            "text/plain": [
              "| 47        | 79       | 1.000000  | 132.033153   | 0.928521          | 0.901895            |"
            ]
          },
          "metadata": {
            "tags": []
          }
        },
        {
          "output_type": "display_data",
          "data": {
            "text/html": [
              "<pre>| 48        | 80       | 1.000000  | 134.204164   | 0.929577          | 0.901895            |</pre>"
            ],
            "text/plain": [
              "| 48        | 80       | 1.000000  | 134.204164   | 0.929577          | 0.901895            |"
            ]
          },
          "metadata": {
            "tags": []
          }
        },
        {
          "output_type": "display_data",
          "data": {
            "text/html": [
              "<pre>| 49        | 82       | 1.000000  | 137.270870   | 0.934624          | 0.904125            |</pre>"
            ],
            "text/plain": [
              "| 49        | 82       | 1.000000  | 137.270870   | 0.934624          | 0.904125            |"
            ]
          },
          "metadata": {
            "tags": []
          }
        },
        {
          "output_type": "display_data",
          "data": {
            "text/html": [
              "<pre>+-----------+----------+-----------+--------------+-------------------+---------------------+</pre>"
            ],
            "text/plain": [
              "+-----------+----------+-----------+--------------+-------------------+---------------------+"
            ]
          },
          "metadata": {
            "tags": []
          }
        },
        {
          "output_type": "stream",
          "text": [
            "Performing feature extraction on resized images...\n",
            "Completed   64/4487\n",
            "Completed  128/4487\n",
            "Completed  192/4487\n",
            "Completed  256/4487\n",
            "Completed  320/4487\n",
            "Completed  384/4487\n",
            "Completed  448/4487\n",
            "Completed  512/4487\n",
            "Completed  576/4487\n",
            "Completed  640/4487\n",
            "Completed  704/4487\n",
            "Completed  768/4487\n",
            "Completed  832/4487\n",
            "Completed  896/4487\n",
            "Completed  960/4487\n",
            "Completed 1024/4487\n",
            "Completed 1088/4487\n",
            "Completed 1152/4487\n",
            "Completed 1216/4487\n",
            "Completed 1280/4487\n",
            "Completed 1344/4487\n",
            "Completed 1408/4487\n",
            "Completed 1472/4487\n",
            "Completed 1536/4487\n",
            "Completed 1600/4487\n",
            "Completed 1664/4487\n",
            "Completed 1728/4487\n",
            "Completed 1792/4487\n",
            "Completed 1856/4487\n",
            "Completed 1920/4487\n",
            "Completed 1984/4487\n",
            "Completed 2048/4487\n",
            "Completed 2112/4487\n",
            "Completed 2176/4487\n",
            "Completed 2240/4487\n",
            "Completed 2304/4487\n",
            "Completed 2368/4487\n",
            "Completed 2432/4487\n",
            "Completed 2496/4487\n",
            "Completed 2560/4487\n",
            "Completed 2624/4487\n",
            "Completed 2688/4487\n",
            "Completed 2752/4487\n",
            "Completed 2816/4487\n",
            "Completed 2880/4487\n",
            "Completed 2944/4487\n",
            "Completed 3008/4487\n",
            "Completed 3072/4487\n",
            "Completed 3136/4487\n",
            "Completed 3200/4487\n",
            "Completed 3264/4487\n",
            "Completed 3328/4487\n",
            "Completed 3392/4487\n",
            "Completed 3456/4487\n",
            "Completed 3520/4487\n",
            "Completed 3584/4487\n",
            "Completed 3648/4487\n",
            "Completed 3712/4487\n",
            "Completed 3776/4487\n",
            "Completed 3840/4487\n",
            "Completed 3904/4487\n",
            "Completed 3968/4487\n",
            "Completed 4032/4487\n",
            "Completed 4096/4487\n",
            "Completed 4160/4487\n",
            "Completed 4224/4487\n",
            "Completed 4288/4487\n",
            "Completed 4352/4487\n",
            "Completed 4416/4487\n",
            "Completed 4480/4487\n",
            "Completed 4487/4487\n",
            "0.9208825495876978\n"
          ],
          "name": "stdout"
        },
        {
          "output_type": "stream",
          "text": [
            "WARNING:root:TensorFlow version 2.3.0 detected. Last version known to be fully compatible is 1.14.0 .\n",
            "WARNING:root:Keras version 2.4.3 detected. Last version known to be fully compatible of Keras is 2.2.4 .\n"
          ],
          "name": "stderr"
        },
        {
          "output_type": "stream",
          "text": [
            "Downloading https://docs-assets.developer.apple.com/turicreate/models/resnet-50-TuriCreate-6.0.mlmodel\n",
            "Download completed: /var/tmp/model_cache/resnet-50-TuriCreate-6.0.mlmodel\n"
          ],
          "name": "stdout"
        }
      ]
    }
  ]
}